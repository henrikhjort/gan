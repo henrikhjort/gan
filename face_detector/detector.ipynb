{
 "cells": [
  {
   "cell_type": "code",
   "execution_count": 24,
   "metadata": {},
   "outputs": [],
   "source": [
    "import cv2\n",
    "import os\n",
    "from PIL import Image"
   ]
  },
  {
   "cell_type": "code",
   "execution_count": 3,
   "metadata": {},
   "outputs": [],
   "source": [
    "face_cascade = cv2.CascadeClassifier('haarcascade_frontalface_default.xml')\n",
    "data = '../data/whatsapp_images'\n",
    "face_dir = '../data/faces'"
   ]
  },
  {
   "cell_type": "code",
   "execution_count": 29,
   "metadata": {},
   "outputs": [],
   "source": [
    "def resize_image(path):\n",
    "    basewidth = 300\n",
    "    img = Image.open(path)\n",
    "    wpercent = (basewidth/float(img.size[0]))\n",
    "    hsize = int((float(img.size[1])*float(wpercent)))\n",
    "    img = img.resize((basewidth,hsize), Image.ANTIALIAS)\n",
    "    img.save(path) "
   ]
  },
  {
   "cell_type": "code",
   "execution_count": null,
   "metadata": {},
   "outputs": [
    {
     "name": "stdout",
     "output_type": "stream",
     "text": [
      "Processing 18712 images...\n"
     ]
    }
   ],
   "source": [
    "print('Processing', len(os.listdir(data)), 'images...')\n",
    "face_count = 0\n",
    "for image in os.listdir(data):\n",
    "    path_str = data + '/' + image\n",
    "    path = os.path.abspath(path_str)\n",
    "    img = cv2.imread(path)\n",
    "    if img is not None:\n",
    "        gray = cv2.cvtColor(img, cv2.COLOR_BGR2GRAY)\n",
    "        faces = face_cascade.detectMultiScale2(gray, 1.1, 4)\n",
    "        rectangles = faces[0]\n",
    "        if len(rectangles) > 1 and len(rectangles) < 3:\n",
    "            for i, (x, y, w, h) in enumerate(rectangles):\n",
    "                cropped = img[ y : y + h, x : x + w]\n",
    "                dest = face_dir + '/' + str(i) + '-' + image\n",
    "                dest = os.path.abspath(dest)\n",
    "                if not os.path.isfile(dest):\n",
    "                    cv2.imwrite(dest, cropped)\n",
    "                    resize_image(dest)\n",
    "                    face_count = face_count + 1\n",
    "print('Created', count(face_count), 'face images.')\n"
   ]
  },
  {
   "cell_type": "code",
   "execution_count": null,
   "metadata": {},
   "outputs": [],
   "source": []
  },
  {
   "cell_type": "code",
   "execution_count": null,
   "metadata": {},
   "outputs": [],
   "source": []
  }
 ],
 "metadata": {
  "kernelspec": {
   "display_name": "Python 3",
   "language": "python",
   "name": "python3"
  },
  "language_info": {
   "codemirror_mode": {
    "name": "ipython",
    "version": 3
   },
   "file_extension": ".py",
   "mimetype": "text/x-python",
   "name": "python",
   "nbconvert_exporter": "python",
   "pygments_lexer": "ipython3",
   "version": "3.7.3"
  }
 },
 "nbformat": 4,
 "nbformat_minor": 2
}
